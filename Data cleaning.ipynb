{
 "cells": [
  {
   "cell_type": "markdown",
   "metadata": {},
   "source": [
    "# Data cleaning projects"
   ]
  },
  {
   "cell_type": "code",
   "execution_count": 1,
   "metadata": {},
   "outputs": [],
   "source": [
    "import pandas as pd\n",
    "import matplotlib.pyplot as plt\n",
    "import numpy as np\n",
    "import pyarrow as pa"
   ]
  },
  {
   "cell_type": "markdown",
   "metadata": {},
   "source": [
    "## Clean listing data"
   ]
  },
  {
   "cell_type": "markdown",
   "metadata": {},
   "source": [
    "### Setting requirements"
   ]
  },
  {
   "cell_type": "code",
   "execution_count": 2,
   "metadata": {},
   "outputs": [],
   "source": [
    "listing = pd.read_parquet(r'C:\\Users\\tamla_f1yewqh\\OneDrive\\Desktop\\Python\\Projects\\Airbnb\\Sydney\\2024\\data load\\listing_2024.parquet')"
   ]
  },
  {
   "cell_type": "code",
   "execution_count": 3,
   "metadata": {},
   "outputs": [
    {
     "name": "stdout",
     "output_type": "stream",
     "text": [
      "<class 'pandas.core.frame.DataFrame'>\n",
      "Index: 11340 entries, 1 to 15547\n",
      "Data columns (total 46 columns):\n",
      " #   Column                          Non-Null Count  Dtype         \n",
      "---  ------                          --------------  -----         \n",
      " 0   id                              11340 non-null  int64         \n",
      " 1   name                            11340 non-null  object        \n",
      " 2   host_id                         11340 non-null  int64         \n",
      " 3   host_name                       11340 non-null  object        \n",
      " 4   host_since                      11340 non-null  datetime64[ns]\n",
      " 5   host_response_time              10273 non-null  object        \n",
      " 6   host_is_superhost               11311 non-null  object        \n",
      " 7   host_listings_count             11340 non-null  int64         \n",
      " 8   host_has_profile_pic            11340 non-null  object        \n",
      " 9   host_identity_verified          11340 non-null  object        \n",
      " 10  neighbourhood_cleansed          11340 non-null  object        \n",
      " 11  latitude                        11340 non-null  float64       \n",
      " 12  longitude                       11340 non-null  float64       \n",
      " 13  property_type                   11340 non-null  object        \n",
      " 14  room_type                       11340 non-null  object        \n",
      " 15  accommodates                    11340 non-null  int64         \n",
      " 16  bathrooms                       11339 non-null  float64       \n",
      " 17  bedrooms                        11340 non-null  float64       \n",
      " 18  beds                            11326 non-null  float64       \n",
      " 19  amenities                       11340 non-null  object        \n",
      " 20  minimum_nights                  11340 non-null  int64         \n",
      " 21  maximum_nights                  11340 non-null  int64         \n",
      " 22  has_availability                11340 non-null  bool          \n",
      " 23  availability_30                 11340 non-null  int64         \n",
      " 24  availability_60                 11340 non-null  int64         \n",
      " 25  availability_90                 11340 non-null  int64         \n",
      " 26  availability_365                11340 non-null  int64         \n",
      " 27  number_of_reviews               11340 non-null  int64         \n",
      " 28  number_of_reviews_ltm           11340 non-null  int64         \n",
      " 29  number_of_reviews_l30d          11340 non-null  int64         \n",
      " 30  review_scores_rating            9920 non-null   float64       \n",
      " 31  review_scores_accuracy          9885 non-null   float64       \n",
      " 32  review_scores_cleanliness       9885 non-null   float64       \n",
      " 33  review_scores_checkin           9885 non-null   float64       \n",
      " 34  review_scores_communication     9885 non-null   float64       \n",
      " 35  review_scores_location          9885 non-null   float64       \n",
      " 36  review_scores_value             9884 non-null   float64       \n",
      " 37  license                         11290 non-null  object        \n",
      " 38  instant_bookable                11340 non-null  object        \n",
      " 39  calculated_host_listings_count  11340 non-null  int64         \n",
      " 40  reviews_per_month               9920 non-null   float64       \n",
      " 41  amenities_copied                11340 non-null  object        \n",
      " 42  amenities_count                 11340 non-null  int64         \n",
      " 43  price_AUD                       11340 non-null  float64       \n",
      " 44  host_response_percent           10273 non-null  float64       \n",
      " 45  host_acceptance_percent         10661 non-null  float64       \n",
      "dtypes: bool(1), datetime64[ns](1), float64(16), int64(15), object(13)\n",
      "memory usage: 4.0+ MB\n"
     ]
    }
   ],
   "source": [
    "listing.info()"
   ]
  },
  {
   "cell_type": "code",
   "execution_count": 117,
   "metadata": {},
   "outputs": [],
   "source": [
    "# pd.set_option('display.max_columns', None)\n",
    "# pd.set_option('display.max_rows', None)"
   ]
  },
  {
   "cell_type": "markdown",
   "metadata": {},
   "source": [
    "- [x] get rid of unnecessary columns\n",
    "  \n",
    "A- Price factors:\n",
    "  - [x] facitlity: property_type, room_type, accomodates, bathrooms, bathrooms text, bedrooms, beds, amenities, price\n",
    "  - [x] location: latitde, longitude, neighbourhood_cleanse,\n",
    "  - [x] time: calendar factors\n",
    "  \n",
    "\n",
    "B- Occupancy rate:\n",
    "  - [x] location, time, price factors\n",
    "  - [x] occupancy metrics: availability, minimum nights, has_availability\n",
    "  - [x] host factors: check host_location, convert host_since/ response time/ response rate/ acceptance rate/ superhost to suitable data types\n",
    "  - [x] review related: keep all review column in listing, and count the number of review for each listing in review data\n",
    "\n",
    "C- Other:\n",
    "  - [x] Outliers check\n",
    "  - [x] Handle null values"
   ]
  },
  {
   "cell_type": "code",
   "execution_count": 3,
   "metadata": {},
   "outputs": [],
   "source": [
    "col_to_drop = ['neighbourhood_group_cleansed', 'listing_url', 'scrape_id', \n",
    "                'last_scraped','source', 'description','neighborhood_overview', 'picture_url',\n",
    "                'host_url','host_thumbnail_url','host_picture_url', 'host_neighbourhood', \n",
    "                'host_total_listings_count', 'neighbourhood', \n",
    "                'minimum_minimum_nights', 'maximum_minimum_nights','minimum_maximum_nights', \n",
    "                'maximum_maximum_nights','minimum_nights_avg_ntm','maximum_nights_avg_ntm', \n",
    "                'calendar_updated', 'calendar_last_scraped','first_review',\n",
    "                'last_review',\n",
    "                'calculated_host_listings_count_entire_homes',\n",
    "                'calculated_host_listings_count_private_rooms', \n",
    "                'calculated_host_listings_count_shared_rooms']"
   ]
  },
  {
   "cell_type": "code",
   "execution_count": 4,
   "metadata": {},
   "outputs": [],
   "source": [
    "df_listing = listing.drop(col_to_drop, axis = 1)"
   ]
  },
  {
   "cell_type": "code",
   "execution_count": 5,
   "metadata": {},
   "outputs": [
    {
     "name": "stdout",
     "output_type": "stream",
     "text": [
      "<class 'pandas.core.frame.DataFrame'>\n",
      "RangeIndex: 15548 entries, 0 to 15547\n",
      "Data columns (total 48 columns):\n",
      " #   Column                          Non-Null Count  Dtype  \n",
      "---  ------                          --------------  -----  \n",
      " 0   id                              15548 non-null  int64  \n",
      " 1   name                            15548 non-null  object \n",
      " 2   host_id                         15548 non-null  int64  \n",
      " 3   host_name                       15548 non-null  object \n",
      " 4   host_since                      15548 non-null  object \n",
      " 5   host_location                   11397 non-null  object \n",
      " 6   host_about                      9108 non-null   object \n",
      " 7   host_response_time              12790 non-null  object \n",
      " 8   host_response_rate              12790 non-null  object \n",
      " 9   host_acceptance_rate            13532 non-null  object \n",
      " 10  host_is_superhost               15504 non-null  object \n",
      " 11  host_listings_count             15548 non-null  int64  \n",
      " 12  host_verifications              15548 non-null  object \n",
      " 13  host_has_profile_pic            15548 non-null  object \n",
      " 14  host_identity_verified          15548 non-null  object \n",
      " 15  neighbourhood_cleansed          15548 non-null  object \n",
      " 16  latitude                        15548 non-null  float64\n",
      " 17  longitude                       15548 non-null  float64\n",
      " 18  property_type                   15548 non-null  object \n",
      " 19  room_type                       15548 non-null  object \n",
      " 20  accommodates                    15548 non-null  int64  \n",
      " 21  bathrooms                       14602 non-null  float64\n",
      " 22  bathrooms_text                  15540 non-null  object \n",
      " 23  bedrooms                        15402 non-null  float64\n",
      " 24  beds                            14558 non-null  float64\n",
      " 25  amenities                       15548 non-null  object \n",
      " 26  price                           14599 non-null  object \n",
      " 27  minimum_nights                  15548 non-null  int64  \n",
      " 28  maximum_nights                  15548 non-null  int64  \n",
      " 29  has_availability                15433 non-null  object \n",
      " 30  availability_30                 15548 non-null  int64  \n",
      " 31  availability_60                 15548 non-null  int64  \n",
      " 32  availability_90                 15548 non-null  int64  \n",
      " 33  availability_365                15548 non-null  int64  \n",
      " 34  number_of_reviews               15548 non-null  int64  \n",
      " 35  number_of_reviews_ltm           15548 non-null  int64  \n",
      " 36  number_of_reviews_l30d          15548 non-null  int64  \n",
      " 37  review_scores_rating            12642 non-null  float64\n",
      " 38  review_scores_accuracy          12602 non-null  float64\n",
      " 39  review_scores_cleanliness       12602 non-null  float64\n",
      " 40  review_scores_checkin           12602 non-null  float64\n",
      " 41  review_scores_communication     12602 non-null  float64\n",
      " 42  review_scores_location          12602 non-null  float64\n",
      " 43  review_scores_value             12601 non-null  float64\n",
      " 44  license                         14044 non-null  object \n",
      " 45  instant_bookable                15548 non-null  object \n",
      " 46  calculated_host_listings_count  15548 non-null  int64  \n",
      " 47  reviews_per_month               12642 non-null  float64\n",
      "dtypes: float64(13), int64(14), object(21)\n",
      "memory usage: 5.7+ MB\n"
     ]
    }
   ],
   "source": [
    "df_listing.info()"
   ]
  },
  {
   "cell_type": "markdown",
   "metadata": {},
   "source": [
    "### A - Clean data related to price factors"
   ]
  },
  {
   "cell_type": "code",
   "execution_count": 6,
   "metadata": {},
   "outputs": [
    {
     "data": {
      "text/plain": [
       "room_type\n",
       "Entire home/apt    12345\n",
       "Hotel room            77\n",
       "Private room        3036\n",
       "Shared room           90\n",
       "Name: id, dtype: int64"
      ]
     },
     "execution_count": 6,
     "metadata": {},
     "output_type": "execute_result"
    }
   ],
   "source": [
    "#checking format of property_type, room_type, accommodates\n",
    "df_listing.groupby('room_type').count()['id']"
   ]
  },
  {
   "cell_type": "code",
   "execution_count": 7,
   "metadata": {},
   "outputs": [
    {
     "data": {
      "text/html": [
       "<div>\n",
       "<style scoped>\n",
       "    .dataframe tbody tr th:only-of-type {\n",
       "        vertical-align: middle;\n",
       "    }\n",
       "\n",
       "    .dataframe tbody tr th {\n",
       "        vertical-align: top;\n",
       "    }\n",
       "\n",
       "    .dataframe thead th {\n",
       "        text-align: right;\n",
       "    }\n",
       "</style>\n",
       "<table border=\"1\" class=\"dataframe\">\n",
       "  <thead>\n",
       "    <tr style=\"text-align: right;\">\n",
       "      <th></th>\n",
       "      <th>property_type</th>\n",
       "      <th>id</th>\n",
       "    </tr>\n",
       "  </thead>\n",
       "  <tbody>\n",
       "    <tr>\n",
       "      <th>17</th>\n",
       "      <td>Entire rental unit</td>\n",
       "      <td>6824</td>\n",
       "    </tr>\n",
       "    <tr>\n",
       "      <th>13</th>\n",
       "      <td>Entire home</td>\n",
       "      <td>3467</td>\n",
       "    </tr>\n",
       "    <tr>\n",
       "      <th>39</th>\n",
       "      <td>Private room in home</td>\n",
       "      <td>1493</td>\n",
       "    </tr>\n",
       "    <tr>\n",
       "      <th>43</th>\n",
       "      <td>Private room in rental unit</td>\n",
       "      <td>900</td>\n",
       "    </tr>\n",
       "    <tr>\n",
       "      <th>12</th>\n",
       "      <td>Entire guesthouse</td>\n",
       "      <td>410</td>\n",
       "    </tr>\n",
       "    <tr>\n",
       "      <th>...</th>\n",
       "      <td>...</td>\n",
       "      <td>...</td>\n",
       "    </tr>\n",
       "    <tr>\n",
       "      <th>36</th>\n",
       "      <td>Private room in earthen home</td>\n",
       "      <td>1</td>\n",
       "    </tr>\n",
       "    <tr>\n",
       "      <th>42</th>\n",
       "      <td>Private room in minsu</td>\n",
       "      <td>1</td>\n",
       "    </tr>\n",
       "    <tr>\n",
       "      <th>49</th>\n",
       "      <td>Private room in vacation home</td>\n",
       "      <td>1</td>\n",
       "    </tr>\n",
       "    <tr>\n",
       "      <th>48</th>\n",
       "      <td>Private room in treehouse</td>\n",
       "      <td>1</td>\n",
       "    </tr>\n",
       "    <tr>\n",
       "      <th>35</th>\n",
       "      <td>Private room in cottage</td>\n",
       "      <td>1</td>\n",
       "    </tr>\n",
       "  </tbody>\n",
       "</table>\n",
       "<p>70 rows × 2 columns</p>\n",
       "</div>"
      ],
      "text/plain": [
       "                    property_type    id\n",
       "17             Entire rental unit  6824\n",
       "13                    Entire home  3467\n",
       "39           Private room in home  1493\n",
       "43    Private room in rental unit   900\n",
       "12              Entire guesthouse   410\n",
       "..                            ...   ...\n",
       "36   Private room in earthen home     1\n",
       "42          Private room in minsu     1\n",
       "49  Private room in vacation home     1\n",
       "48      Private room in treehouse     1\n",
       "35        Private room in cottage     1\n",
       "\n",
       "[70 rows x 2 columns]"
      ]
     },
     "execution_count": 7,
     "metadata": {},
     "output_type": "execute_result"
    }
   ],
   "source": [
    "#checking format of property_type, room_type, accommodates\n",
    "df_listing.groupby('property_type').count()['id'].reset_index().sort_values(by = 'id', ascending=False)"
   ]
  },
  {
   "cell_type": "code",
   "execution_count": 8,
   "metadata": {},
   "outputs": [
    {
     "data": {
      "text/plain": [
       "accommodates\n",
       "1      914\n",
       "2     5403\n",
       "3      973\n",
       "4     3403\n",
       "5      981\n",
       "6     1713\n",
       "7      372\n",
       "8      926\n",
       "9      154\n",
       "10     407\n",
       "11      59\n",
       "12     143\n",
       "13      12\n",
       "14      25\n",
       "15      13\n",
       "16      50\n",
       "Name: id, dtype: int64"
      ]
     },
     "execution_count": 8,
     "metadata": {},
     "output_type": "execute_result"
    }
   ],
   "source": [
    "#checking format of property_type, room_type, accommodates\n",
    "df_listing.groupby('accommodates').count()['id']"
   ]
  },
  {
   "cell_type": "code",
   "execution_count": 9,
   "metadata": {},
   "outputs": [
    {
     "data": {
      "text/plain": [
       "946"
      ]
     },
     "execution_count": 9,
     "metadata": {},
     "output_type": "execute_result"
    }
   ],
   "source": [
    "# bathrooms na values\n",
    "df_listing['bathrooms'].isna().sum()"
   ]
  },
  {
   "cell_type": "code",
   "execution_count": 10,
   "metadata": {},
   "outputs": [
    {
     "data": {
      "text/html": [
       "<div>\n",
       "<style scoped>\n",
       "    .dataframe tbody tr th:only-of-type {\n",
       "        vertical-align: middle;\n",
       "    }\n",
       "\n",
       "    .dataframe tbody tr th {\n",
       "        vertical-align: top;\n",
       "    }\n",
       "\n",
       "    .dataframe thead th {\n",
       "        text-align: right;\n",
       "    }\n",
       "</style>\n",
       "<table border=\"1\" class=\"dataframe\">\n",
       "  <thead>\n",
       "    <tr style=\"text-align: right;\">\n",
       "      <th></th>\n",
       "      <th>bathrooms</th>\n",
       "      <th>bathrooms_text</th>\n",
       "    </tr>\n",
       "  </thead>\n",
       "  <tbody>\n",
       "    <tr>\n",
       "      <th>11</th>\n",
       "      <td>NaN</td>\n",
       "      <td>1 bath</td>\n",
       "    </tr>\n",
       "    <tr>\n",
       "      <th>47</th>\n",
       "      <td>NaN</td>\n",
       "      <td>1 bath</td>\n",
       "    </tr>\n",
       "    <tr>\n",
       "      <th>63</th>\n",
       "      <td>NaN</td>\n",
       "      <td>1 bath</td>\n",
       "    </tr>\n",
       "    <tr>\n",
       "      <th>67</th>\n",
       "      <td>NaN</td>\n",
       "      <td>1.5 baths</td>\n",
       "    </tr>\n",
       "    <tr>\n",
       "      <th>92</th>\n",
       "      <td>NaN</td>\n",
       "      <td>None</td>\n",
       "    </tr>\n",
       "  </tbody>\n",
       "</table>\n",
       "</div>"
      ],
      "text/plain": [
       "    bathrooms bathrooms_text\n",
       "11        NaN         1 bath\n",
       "47        NaN         1 bath\n",
       "63        NaN         1 bath\n",
       "67        NaN      1.5 baths\n",
       "92        NaN           None"
      ]
     },
     "execution_count": 10,
     "metadata": {},
     "output_type": "execute_result"
    }
   ],
   "source": [
    "# compared null value with bathroom_text\n",
    "df_listing[df_listing['bathrooms'].isna()][['bathrooms','bathrooms_text']].head(5)"
   ]
  },
  {
   "cell_type": "code",
   "execution_count": 11,
   "metadata": {},
   "outputs": [
    {
     "data": {
      "text/plain": [
       "943"
      ]
     },
     "execution_count": 11,
     "metadata": {},
     "output_type": "execute_result"
    }
   ],
   "source": [
    "# checking if the bathrooms text can fill the na in bathrooms\n",
    "len(df_listing[(df_listing['bathrooms'].isna()) & (df_listing['bathrooms_text'].notna())])"
   ]
  },
  {
   "cell_type": "code",
   "execution_count": 12,
   "metadata": {},
   "outputs": [
    {
     "data": {
      "text/html": [
       "<div>\n",
       "<style scoped>\n",
       "    .dataframe tbody tr th:only-of-type {\n",
       "        vertical-align: middle;\n",
       "    }\n",
       "\n",
       "    .dataframe tbody tr th {\n",
       "        vertical-align: top;\n",
       "    }\n",
       "\n",
       "    .dataframe thead th {\n",
       "        text-align: right;\n",
       "    }\n",
       "</style>\n",
       "<table border=\"1\" class=\"dataframe\">\n",
       "  <thead>\n",
       "    <tr style=\"text-align: right;\">\n",
       "      <th></th>\n",
       "      <th>bathrooms</th>\n",
       "      <th>bath</th>\n",
       "    </tr>\n",
       "  </thead>\n",
       "  <tbody>\n",
       "    <tr>\n",
       "      <th>0</th>\n",
       "      <td>1.5</td>\n",
       "      <td>1.5</td>\n",
       "    </tr>\n",
       "    <tr>\n",
       "      <th>1</th>\n",
       "      <td>1.0</td>\n",
       "      <td>1.0</td>\n",
       "    </tr>\n",
       "    <tr>\n",
       "      <th>2</th>\n",
       "      <td>1 bath</td>\n",
       "      <td>1</td>\n",
       "    </tr>\n",
       "    <tr>\n",
       "      <th>3</th>\n",
       "      <td>1.5 shared bath</td>\n",
       "      <td>1.5</td>\n",
       "    </tr>\n",
       "  </tbody>\n",
       "</table>\n",
       "</div>"
      ],
      "text/plain": [
       "         bathrooms bath\n",
       "0              1.5  1.5\n",
       "1              1.0  1.0\n",
       "2           1 bath    1\n",
       "3  1.5 shared bath  1.5"
      ]
     },
     "execution_count": 12,
     "metadata": {},
     "output_type": "execute_result"
    }
   ],
   "source": [
    "# testing samples\n",
    "sample = pd.DataFrame(['1.5','1.0', '1 bath','1.5 shared bath'], columns=['bathrooms'])\n",
    "sample['bath'] = sample['bathrooms'].str.split(' ',expand=True)[0]\n",
    "sample"
   ]
  },
  {
   "cell_type": "code",
   "execution_count": 13,
   "metadata": {},
   "outputs": [],
   "source": [
    "#convert value on bathrooms text to number\n",
    "df_listing['bathrooms_text'] = df_listing['bathrooms_text'].str.split(' ',expand=True)[0]"
   ]
  },
  {
   "cell_type": "code",
   "execution_count": 14,
   "metadata": {},
   "outputs": [],
   "source": [
    "# fillna in bathrooms with bathrooms text value\n",
    "df_listing['bathrooms'] = df_listing['bathrooms'].fillna(df_listing['bathrooms_text'])"
   ]
  },
  {
   "cell_type": "code",
   "execution_count": 15,
   "metadata": {},
   "outputs": [],
   "source": [
    "# clean and transform to numeric type for bathrooms column\n",
    "df_listing['bathrooms'] = pd.to_numeric(df_listing['bathrooms'], errors='coerce')"
   ]
  },
  {
   "cell_type": "code",
   "execution_count": 16,
   "metadata": {},
   "outputs": [
    {
     "data": {
      "text/plain": [
       "'There are 4 listings that has null bath room values accounting for 0.025726781579624387% of total data'"
      ]
     },
     "execution_count": 16,
     "metadata": {},
     "output_type": "execute_result"
    }
   ],
   "source": [
    "# check the how many na value left\n",
    "f'There are {df_listing['bathrooms'].isna().sum()} listings that has null bath room values accounting for {df_listing['bathrooms'].isna().sum()*100/len(df_listing)}% of total data'"
   ]
  },
  {
   "cell_type": "code",
   "execution_count": 17,
   "metadata": {},
   "outputs": [
    {
     "data": {
      "text/plain": [
       "2474     [\"Essentials\", \"Heating\", \"TV\", \"Smoke alarm\",...\n",
       "778      [\"Outdoor furniture\", \"Room-darkening shades\",...\n",
       "15539    [\"Fire extinguisher\", \"Bed linens\", \"Washer\", ...\n",
       "11492    [\"Outdoor furniture\", \"Room-darkening shades\",...\n",
       "2493     [\"Fire extinguisher\", \"Outdoor furniture\", \"Be...\n",
       "187      [\"TV\", \"Smoke alarm\", \"Wifi\", \"Free parking on...\n",
       "9972     [\"Fire extinguisher\", \"Room-darkening shades\",...\n",
       "2410     [\"Outdoor furniture\", \"Indoor fireplace\", \"Bea...\n",
       "4102     [\"Bed linens\", \"Washer\", \"Shower gel\", \"Shampo...\n",
       "10361    [\"Fire extinguisher\", \"Outdoor furniture\", \"Be...\n",
       "Name: amenities, dtype: object"
      ]
     },
     "execution_count": 17,
     "metadata": {},
     "output_type": "execute_result"
    }
   ],
   "source": [
    "# checking amenities\n",
    "df_listing['amenities'].sample(10)"
   ]
  },
  {
   "cell_type": "code",
   "execution_count": 18,
   "metadata": {},
   "outputs": [],
   "source": [
    "df_listing['amenities_copied'] = df_listing['amenities']"
   ]
  },
  {
   "cell_type": "code",
   "execution_count": 19,
   "metadata": {},
   "outputs": [],
   "source": [
    "# clean format\n",
    "df_listing['amenities'] = df_listing['amenities'].apply(lambda x: x.replace('[','').replace(']','').replace('\"','').replace(' ,',',').replace(', ',',').split(','))"
   ]
  },
  {
   "cell_type": "code",
   "execution_count": 20,
   "metadata": {},
   "outputs": [],
   "source": [
    "# adding the number of amenities\n",
    "df_listing['amenities_count'] = df_listing['amenities'].apply(len)"
   ]
  },
  {
   "cell_type": "code",
   "execution_count": 21,
   "metadata": {},
   "outputs": [
    {
     "data": {
      "text/plain": [
       "0      $185.00\n",
       "1      $100.00\n",
       "2      $347.00\n",
       "3      $100.00\n",
       "4      $736.00\n",
       "5      $359.00\n",
       "6    $1,600.00\n",
       "7       $70.00\n",
       "8      $194.00\n",
       "9      $178.00\n",
       "Name: price, dtype: object"
      ]
     },
     "execution_count": 21,
     "metadata": {},
     "output_type": "execute_result"
    }
   ],
   "source": [
    "# clean price column. The currency is local currency (AUD)\n",
    "df_listing['price'].head(10)"
   ]
  },
  {
   "cell_type": "code",
   "execution_count": 22,
   "metadata": {},
   "outputs": [],
   "source": [
    "df_listing['price_AUD'] = df_listing['price'].str.replace('$','')\n",
    "df_listing['price_AUD'] = df_listing['price_AUD'].str.replace(',','')\n",
    "df_listing['price_AUD'] = df_listing['price_AUD'].str.replace('.00','')\n",
    "df_listing['price_AUD'] = pd.to_numeric(df_listing['price_AUD'])"
   ]
  },
  {
   "cell_type": "markdown",
   "metadata": {},
   "source": [
    "### B - Clean location/host/review factors"
   ]
  },
  {
   "cell_type": "code",
   "execution_count": null,
   "metadata": {},
   "outputs": [],
   "source": [
    "# checking neighborhood format. The format seem to be good, no need further edit\n",
    "df_listing.groupby('neighbourhood_cleansed').count()['id']"
   ]
  },
  {
   "cell_type": "code",
   "execution_count": null,
   "metadata": {},
   "outputs": [],
   "source": [
    "# host factors: host_since convert to datetime, check lost_location, convert response time/ response rate/ acceptance rate/ superhost to suitable data types\n",
    "df_listing.groupby('host_location').count()['id']"
   ]
  },
  {
   "cell_type": "code",
   "execution_count": 25,
   "metadata": {},
   "outputs": [],
   "source": [
    "# convert the host since into date time\n",
    "df_listing['host_since'] = pd.to_datetime(df_listing['host_since'], errors='coerce')"
   ]
  },
  {
   "cell_type": "code",
   "execution_count": 26,
   "metadata": {},
   "outputs": [
    {
     "data": {
      "text/plain": [
       "host_response_time\n",
       "a few days or more     325\n",
       "within a day           907\n",
       "within a few hours    1757\n",
       "within an hour        9801\n",
       "Name: id, dtype: int64"
      ]
     },
     "execution_count": 26,
     "metadata": {},
     "output_type": "execute_result"
    }
   ],
   "source": [
    "# checking host_response time\n",
    "df_listing.groupby('host_response_time').count()['id']"
   ]
  },
  {
   "cell_type": "code",
   "execution_count": 27,
   "metadata": {},
   "outputs": [],
   "source": [
    "# checking response rate: remove % sign and convert to numeric\n",
    "df_listing['host_response_percent'] = pd.to_numeric(df_listing['host_response_rate'].str.replace('%',''))"
   ]
  },
  {
   "cell_type": "code",
   "execution_count": 28,
   "metadata": {},
   "outputs": [],
   "source": [
    "# checking host acceptance rate\n",
    "df_listing['host_acceptance_percent'] = pd.to_numeric(df_listing['host_acceptance_rate'].str.replace('%',''))"
   ]
  },
  {
   "cell_type": "code",
   "execution_count": null,
   "metadata": {},
   "outputs": [],
   "source": [
    "#convert boolean type \n",
    "df_listing['host_is_superhost'].astype('bool')\n",
    "df_listing['host_identity_verified'].astype('bool')\n",
    "df_listing['host_has_profile_pic'].astype('bool')\n",
    "df_listing['instant_bookable'].astype('bool')\n",
    "df_listing['host_has_profile_pic'].astype('bool')"
   ]
  },
  {
   "cell_type": "code",
   "execution_count": null,
   "metadata": {},
   "outputs": [],
   "source": [
    "# recheck columns and drop unncessary columns\n",
    "df_listing.info()"
   ]
  },
  {
   "cell_type": "code",
   "execution_count": 30,
   "metadata": {},
   "outputs": [],
   "source": [
    "col_to_drop2 = ['host_location', 'host_about', 'host_acceptance_rate', 'bathrooms_text', 'price','host_response_rate','host_verifications']"
   ]
  },
  {
   "cell_type": "code",
   "execution_count": 31,
   "metadata": {},
   "outputs": [],
   "source": [
    "df_listing = df_listing.drop(col_to_drop2, axis =1)"
   ]
  },
  {
   "cell_type": "code",
   "execution_count": null,
   "metadata": {},
   "outputs": [],
   "source": [
    "df_listing.info()"
   ]
  },
  {
   "cell_type": "markdown",
   "metadata": {},
   "source": [
    "### C - Handle missing values/ outliers"
   ]
  },
  {
   "cell_type": "markdown",
   "metadata": {},
   "source": [
    "#### Handle missing values of accommodates, rooms, beds"
   ]
  },
  {
   "cell_type": "code",
   "execution_count": null,
   "metadata": {},
   "outputs": [],
   "source": [
    "# outliers detection: accommodates\n",
    "df_listing.groupby('accommodates').count()['id'] # there seem no outliers in range of accomodates"
   ]
  },
  {
   "cell_type": "code",
   "execution_count": null,
   "metadata": {},
   "outputs": [],
   "source": [
    "# checking outliers for bedrooms\n",
    "df_listing.groupby('bedrooms').count()['id'].sort_values(ascending=False)"
   ]
  },
  {
   "cell_type": "code",
   "execution_count": 35,
   "metadata": {},
   "outputs": [
    {
     "data": {
      "text/html": [
       "<div>\n",
       "<style scoped>\n",
       "    .dataframe tbody tr th:only-of-type {\n",
       "        vertical-align: middle;\n",
       "    }\n",
       "\n",
       "    .dataframe tbody tr th {\n",
       "        vertical-align: top;\n",
       "    }\n",
       "\n",
       "    .dataframe thead th {\n",
       "        text-align: right;\n",
       "    }\n",
       "</style>\n",
       "<table border=\"1\" class=\"dataframe\">\n",
       "  <thead>\n",
       "    <tr style=\"text-align: right;\">\n",
       "      <th></th>\n",
       "      <th>beds</th>\n",
       "      <th>bedrooms</th>\n",
       "      <th>property_type</th>\n",
       "    </tr>\n",
       "  </thead>\n",
       "  <tbody>\n",
       "    <tr>\n",
       "      <th>14801</th>\n",
       "      <td>2.0</td>\n",
       "      <td>0.0</td>\n",
       "      <td>Entire rental unit</td>\n",
       "    </tr>\n",
       "    <tr>\n",
       "      <th>10198</th>\n",
       "      <td>2.0</td>\n",
       "      <td>0.0</td>\n",
       "      <td>Room in hotel</td>\n",
       "    </tr>\n",
       "    <tr>\n",
       "      <th>900</th>\n",
       "      <td>1.0</td>\n",
       "      <td>0.0</td>\n",
       "      <td>Entire guesthouse</td>\n",
       "    </tr>\n",
       "    <tr>\n",
       "      <th>13882</th>\n",
       "      <td>2.0</td>\n",
       "      <td>0.0</td>\n",
       "      <td>Entire rental unit</td>\n",
       "    </tr>\n",
       "    <tr>\n",
       "      <th>6456</th>\n",
       "      <td>1.0</td>\n",
       "      <td>0.0</td>\n",
       "      <td>Entire rental unit</td>\n",
       "    </tr>\n",
       "    <tr>\n",
       "      <th>5415</th>\n",
       "      <td>1.0</td>\n",
       "      <td>0.0</td>\n",
       "      <td>Room in hotel</td>\n",
       "    </tr>\n",
       "    <tr>\n",
       "      <th>3830</th>\n",
       "      <td>1.0</td>\n",
       "      <td>0.0</td>\n",
       "      <td>Entire rental unit</td>\n",
       "    </tr>\n",
       "    <tr>\n",
       "      <th>10232</th>\n",
       "      <td>0.0</td>\n",
       "      <td>0.0</td>\n",
       "      <td>Entire rental unit</td>\n",
       "    </tr>\n",
       "    <tr>\n",
       "      <th>5550</th>\n",
       "      <td>1.0</td>\n",
       "      <td>0.0</td>\n",
       "      <td>Entire guesthouse</td>\n",
       "    </tr>\n",
       "    <tr>\n",
       "      <th>4953</th>\n",
       "      <td>1.0</td>\n",
       "      <td>0.0</td>\n",
       "      <td>Entire rental unit</td>\n",
       "    </tr>\n",
       "  </tbody>\n",
       "</table>\n",
       "</div>"
      ],
      "text/plain": [
       "       beds  bedrooms       property_type\n",
       "14801   2.0       0.0  Entire rental unit\n",
       "10198   2.0       0.0       Room in hotel\n",
       "900     1.0       0.0   Entire guesthouse\n",
       "13882   2.0       0.0  Entire rental unit\n",
       "6456    1.0       0.0  Entire rental unit\n",
       "5415    1.0       0.0       Room in hotel\n",
       "3830    1.0       0.0  Entire rental unit\n",
       "10232   0.0       0.0  Entire rental unit\n",
       "5550    1.0       0.0   Entire guesthouse\n",
       "4953    1.0       0.0  Entire rental unit"
      ]
     },
     "execution_count": 35,
     "metadata": {},
     "output_type": "execute_result"
    }
   ],
   "source": [
    "# check what kind of listing has 0 bedrooms.\n",
    "df_listing[df_listing['bedrooms'] == 0][['beds','bedrooms','property_type']].sample(10)"
   ]
  },
  {
   "cell_type": "code",
   "execution_count": 36,
   "metadata": {},
   "outputs": [
    {
     "data": {
      "text/plain": [
       "1.1539369613977097"
      ]
     },
     "execution_count": 36,
     "metadata": {},
     "output_type": "execute_result"
    }
   ],
   "source": [
    "# question: should the 0 bedrooms value be fill with the beds value assuming 1 bed = 1 bedroom. If so, what is the average bed per bedroom\n",
    "bed_num = df_listing[(df_listing['beds'] != 0) & (df_listing['bedrooms'] != 0)]['beds'].sum()\n",
    "bedroom_num = df_listing[(df_listing['beds'] != 0) & (df_listing['bedrooms'] != 0)]['bedrooms'].sum()\n",
    "bed_num/bedroom_num "
   ]
  },
  {
   "cell_type": "code",
   "execution_count": 37,
   "metadata": {},
   "outputs": [],
   "source": [
    "# since the average beds per bedroom is nearly 01, the 0 number of bedrooms col can get replace with non-zero in beds col and fill na in bedrooms with beds\n",
    "df_listing['bedrooms'] = df_listing.apply(lambda x: x['beds'] if x['bedrooms'] == 0 else x['bedrooms'], axis = 1 )"
   ]
  },
  {
   "cell_type": "code",
   "execution_count": 38,
   "metadata": {},
   "outputs": [],
   "source": [
    "# fill na values of bedrooms with the value of beds available\n",
    "df_listing['bedrooms'] = df_listing['bedrooms'].fillna(df_listing['beds'])"
   ]
  },
  {
   "cell_type": "code",
   "execution_count": 39,
   "metadata": {},
   "outputs": [],
   "source": [
    "# for the rest of null and 0 bedrooms value, the accommodates will be used as proxy: shared rooms will have accomodates = bedrooms, other roomtype: bedrooms = accommodates/2 rounded\n",
    "df_listing['bedrooms'] = np.where(((df_listing['bedrooms'].isna()) | (df_listing['bedrooms'] == 0)) & (df_listing['room_type'] == 'Shared room'), \n",
    "                                  df_listing['accommodates'], df_listing['bedrooms'])"
   ]
  },
  {
   "cell_type": "code",
   "execution_count": 40,
   "metadata": {},
   "outputs": [],
   "source": [
    "df_listing['bedrooms'] = np.where(((df_listing['bedrooms'].isna()) | (df_listing['bedrooms'] == 0)), round(df_listing['accommodates']/2,0), df_listing['bedrooms'])"
   ]
  },
  {
   "cell_type": "code",
   "execution_count": 41,
   "metadata": {},
   "outputs": [],
   "source": [
    "# the 0.5 bedromms will be rounded down to 0, hence, it is necessary to replace 1 for those value\n",
    "df_listing['bedrooms'] = np.where(df_listing['bedrooms'] == 0, df_listing['accommodates'], df_listing['bedrooms'])"
   ]
  },
  {
   "cell_type": "code",
   "execution_count": 42,
   "metadata": {},
   "outputs": [],
   "source": [
    "# fill na in has_availability column for rows have availability_365 different from 0\n",
    "df_listing['has_availability'] = np.where(df_listing['has_availability'].isna(), \n",
    "                                          np.where(df_listing['availability_365'] !=0, True, False), df_listing['has_availability'])"
   ]
  },
  {
   "cell_type": "code",
   "execution_count": 43,
   "metadata": {},
   "outputs": [
    {
     "name": "stderr",
     "output_type": "stream",
     "text": [
      "C:\\Users\\tamla_f1yewqh\\AppData\\Local\\Temp\\ipykernel_8052\\2675808758.py:1: FutureWarning: Downcasting behavior in `replace` is deprecated and will be removed in a future version. To retain the old behavior, explicitly call `result.infer_objects(copy=False)`. To opt-in to the future behavior, set `pd.set_option('future.no_silent_downcasting', True)`\n",
      "  df_listing['has_availability'] = df_listing['has_availability'].replace({'t': True, 'f': False})\n"
     ]
    }
   ],
   "source": [
    "df_listing['has_availability'] = df_listing['has_availability'].replace({'t': True, 'f': False})"
   ]
  },
  {
   "cell_type": "code",
   "execution_count": null,
   "metadata": {},
   "outputs": [],
   "source": [
    "df_listing['has_availability'].astype('bool')"
   ]
  },
  {
   "cell_type": "markdown",
   "metadata": {},
   "source": [
    "#### Handle outliers for price and minimum nights"
   ]
  },
  {
   "cell_type": "code",
   "execution_count": 45,
   "metadata": {},
   "outputs": [
    {
     "data": {
      "text/plain": [
       "949"
      ]
     },
     "execution_count": 45,
     "metadata": {},
     "output_type": "execute_result"
    }
   ],
   "source": [
    "# checking null price\n",
    "df_listing['price_AUD'].isna().sum()"
   ]
  },
  {
   "cell_type": "code",
   "execution_count": 46,
   "metadata": {},
   "outputs": [
    {
     "data": {
      "text/html": [
       "<div>\n",
       "<style scoped>\n",
       "    .dataframe tbody tr th:only-of-type {\n",
       "        vertical-align: middle;\n",
       "    }\n",
       "\n",
       "    .dataframe tbody tr th {\n",
       "        vertical-align: top;\n",
       "    }\n",
       "\n",
       "    .dataframe thead th {\n",
       "        text-align: right;\n",
       "    }\n",
       "</style>\n",
       "<table border=\"1\" class=\"dataframe\">\n",
       "  <thead>\n",
       "    <tr style=\"text-align: right;\">\n",
       "      <th></th>\n",
       "      <th>availability_30</th>\n",
       "      <th>availability_60</th>\n",
       "      <th>availability_90</th>\n",
       "      <th>availability_365</th>\n",
       "      <th>host_acceptance_percent</th>\n",
       "      <th>has_availability</th>\n",
       "    </tr>\n",
       "  </thead>\n",
       "  <tbody>\n",
       "    <tr>\n",
       "      <th>11545</th>\n",
       "      <td>7</td>\n",
       "      <td>16</td>\n",
       "      <td>32</td>\n",
       "      <td>234</td>\n",
       "      <td>56.0</td>\n",
       "      <td>True</td>\n",
       "    </tr>\n",
       "    <tr>\n",
       "      <th>9217</th>\n",
       "      <td>0</td>\n",
       "      <td>0</td>\n",
       "      <td>0</td>\n",
       "      <td>14</td>\n",
       "      <td>67.0</td>\n",
       "      <td>True</td>\n",
       "    </tr>\n",
       "    <tr>\n",
       "      <th>9641</th>\n",
       "      <td>0</td>\n",
       "      <td>0</td>\n",
       "      <td>0</td>\n",
       "      <td>0</td>\n",
       "      <td>100.0</td>\n",
       "      <td>True</td>\n",
       "    </tr>\n",
       "    <tr>\n",
       "      <th>4685</th>\n",
       "      <td>30</td>\n",
       "      <td>60</td>\n",
       "      <td>90</td>\n",
       "      <td>365</td>\n",
       "      <td>NaN</td>\n",
       "      <td>True</td>\n",
       "    </tr>\n",
       "    <tr>\n",
       "      <th>7781</th>\n",
       "      <td>0</td>\n",
       "      <td>0</td>\n",
       "      <td>0</td>\n",
       "      <td>0</td>\n",
       "      <td>99.0</td>\n",
       "      <td>True</td>\n",
       "    </tr>\n",
       "    <tr>\n",
       "      <th>2889</th>\n",
       "      <td>0</td>\n",
       "      <td>0</td>\n",
       "      <td>0</td>\n",
       "      <td>0</td>\n",
       "      <td>71.0</td>\n",
       "      <td>True</td>\n",
       "    </tr>\n",
       "    <tr>\n",
       "      <th>2813</th>\n",
       "      <td>0</td>\n",
       "      <td>0</td>\n",
       "      <td>0</td>\n",
       "      <td>0</td>\n",
       "      <td>100.0</td>\n",
       "      <td>True</td>\n",
       "    </tr>\n",
       "    <tr>\n",
       "      <th>11088</th>\n",
       "      <td>0</td>\n",
       "      <td>0</td>\n",
       "      <td>0</td>\n",
       "      <td>0</td>\n",
       "      <td>96.0</td>\n",
       "      <td>True</td>\n",
       "    </tr>\n",
       "    <tr>\n",
       "      <th>11919</th>\n",
       "      <td>0</td>\n",
       "      <td>0</td>\n",
       "      <td>0</td>\n",
       "      <td>0</td>\n",
       "      <td>90.0</td>\n",
       "      <td>True</td>\n",
       "    </tr>\n",
       "    <tr>\n",
       "      <th>10202</th>\n",
       "      <td>0</td>\n",
       "      <td>0</td>\n",
       "      <td>0</td>\n",
       "      <td>0</td>\n",
       "      <td>NaN</td>\n",
       "      <td>True</td>\n",
       "    </tr>\n",
       "  </tbody>\n",
       "</table>\n",
       "</div>"
      ],
      "text/plain": [
       "       availability_30  availability_60  availability_90  availability_365  \\\n",
       "11545                7               16               32               234   \n",
       "9217                 0                0                0                14   \n",
       "9641                 0                0                0                 0   \n",
       "4685                30               60               90               365   \n",
       "7781                 0                0                0                 0   \n",
       "2889                 0                0                0                 0   \n",
       "2813                 0                0                0                 0   \n",
       "11088                0                0                0                 0   \n",
       "11919                0                0                0                 0   \n",
       "10202                0                0                0                 0   \n",
       "\n",
       "       host_acceptance_percent  has_availability  \n",
       "11545                     56.0              True  \n",
       "9217                      67.0              True  \n",
       "9641                     100.0              True  \n",
       "4685                       NaN              True  \n",
       "7781                      99.0              True  \n",
       "2889                      71.0              True  \n",
       "2813                     100.0              True  \n",
       "11088                     96.0              True  \n",
       "11919                     90.0              True  \n",
       "10202                      NaN              True  "
      ]
     },
     "execution_count": 46,
     "metadata": {},
     "output_type": "execute_result"
    }
   ],
   "source": [
    "# checking samples the null-price listing if there is any bookings, reviews, ... If there is like no activity, maybe these listings are no longer in business\n",
    "df_listing[df_listing['price_AUD'].isna()][['availability_30','availability_60','availability_90','availability_365','host_acceptance_percent','has_availability']].sample(10)"
   ]
  },
  {
   "cell_type": "code",
   "execution_count": 47,
   "metadata": {},
   "outputs": [
    {
     "data": {
      "text/plain": [
       "14"
      ]
     },
     "execution_count": 47,
     "metadata": {},
     "output_type": "execute_result"
    }
   ],
   "source": [
    "# checking how many of null-price listings has 0 in availability, 0 reviews and null in acceptance rate\n",
    "row_to_drop = df_listing[(df_listing['price_AUD'].isna()) & (df_listing['has_availability'] == False)].index\n",
    "len(row_to_drop)"
   ]
  },
  {
   "cell_type": "code",
   "execution_count": 48,
   "metadata": {},
   "outputs": [],
   "source": [
    "# drop these rows as these listing does not seem to be in operation\n",
    "df_listing = df_listing.drop(index = row_to_drop)"
   ]
  },
  {
   "cell_type": "code",
   "execution_count": 49,
   "metadata": {},
   "outputs": [
    {
     "data": {
      "text/html": [
       "<div>\n",
       "<style scoped>\n",
       "    .dataframe tbody tr th:only-of-type {\n",
       "        vertical-align: middle;\n",
       "    }\n",
       "\n",
       "    .dataframe tbody tr th {\n",
       "        vertical-align: top;\n",
       "    }\n",
       "\n",
       "    .dataframe thead th {\n",
       "        text-align: right;\n",
       "    }\n",
       "</style>\n",
       "<table border=\"1\" class=\"dataframe\">\n",
       "  <thead>\n",
       "    <tr style=\"text-align: right;\">\n",
       "      <th></th>\n",
       "      <th>price_AUD</th>\n",
       "      <th>minimum_nights</th>\n",
       "    </tr>\n",
       "  </thead>\n",
       "  <tbody>\n",
       "    <tr>\n",
       "      <th>count</th>\n",
       "      <td>14599.000000</td>\n",
       "      <td>15534.000000</td>\n",
       "    </tr>\n",
       "    <tr>\n",
       "      <th>mean</th>\n",
       "      <td>346.667100</td>\n",
       "      <td>16.599459</td>\n",
       "    </tr>\n",
       "    <tr>\n",
       "      <th>std</th>\n",
       "      <td>545.697468</td>\n",
       "      <td>34.640492</td>\n",
       "    </tr>\n",
       "    <tr>\n",
       "      <th>min</th>\n",
       "      <td>16.000000</td>\n",
       "      <td>1.000000</td>\n",
       "    </tr>\n",
       "    <tr>\n",
       "      <th>25%</th>\n",
       "      <td>140.000000</td>\n",
       "      <td>2.000000</td>\n",
       "    </tr>\n",
       "    <tr>\n",
       "      <th>50%</th>\n",
       "      <td>206.000000</td>\n",
       "      <td>2.000000</td>\n",
       "    </tr>\n",
       "    <tr>\n",
       "      <th>75%</th>\n",
       "      <td>341.500000</td>\n",
       "      <td>6.000000</td>\n",
       "    </tr>\n",
       "    <tr>\n",
       "      <th>max</th>\n",
       "      <td>13500.000000</td>\n",
       "      <td>500.000000</td>\n",
       "    </tr>\n",
       "  </tbody>\n",
       "</table>\n",
       "</div>"
      ],
      "text/plain": [
       "          price_AUD  minimum_nights\n",
       "count  14599.000000    15534.000000\n",
       "mean     346.667100       16.599459\n",
       "std      545.697468       34.640492\n",
       "min       16.000000        1.000000\n",
       "25%      140.000000        2.000000\n",
       "50%      206.000000        2.000000\n",
       "75%      341.500000        6.000000\n",
       "max    13500.000000      500.000000"
      ]
     },
     "execution_count": 49,
     "metadata": {},
     "output_type": "execute_result"
    }
   ],
   "source": [
    "df_listing[['price_AUD','minimum_nights']].describe()"
   ]
  },
  {
   "cell_type": "code",
   "execution_count": 50,
   "metadata": {},
   "outputs": [
    {
     "data": {
      "text/plain": [
       "array([[<Axes: title={'center': 'price_AUD'}>,\n",
       "        <Axes: title={'center': 'minimum_nights'}>]], dtype=object)"
      ]
     },
     "execution_count": 50,
     "metadata": {},
     "output_type": "execute_result"
    },
    {
     "data": {
      "image/png": "[encoded data removed]",
      "text/plain": [
       "<Figure size 640x480 with 2 Axes>"
      ]
     },
     "metadata": {},
     "output_type": "display_data"
    }
   ],
   "source": [
    "df_listing[['price_AUD','minimum_nights']].hist(bins = 20)"
   ]
  },
  {
   "cell_type": "markdown",
   "metadata": {},
   "source": [
    "- The **price** column has max value of 1 million AUD while the 75% percentile (Q3) is just 2196 AUD. Hence there are ouliers for price\n",
    "- The **minimum nights** has max value of 1115 nights while the 75% percentile is 7, hence minimum nights also contain outliers"
   ]
  },
  {
   "cell_type": "code",
   "execution_count": 51,
   "metadata": {},
   "outputs": [
    {
     "data": {
      "image/png": "[encoded data removed]",
      "text/plain": [
       "<Figure size 2000x300 with 1 Axes>"
      ]
     },
     "metadata": {},
     "output_type": "display_data"
    },
    {
     "name": "stdout",
     "output_type": "stream",
     "text": [
      "The upper limit for price is 643.75\n",
      "The lower limit for price is -162.25\n",
      "There are 1506 rows have price higher than upper limit accounting for 9.69% of total\n"
     ]
    }
   ],
   "source": [
    "# the box plot for price column as follow\n",
    "fig, ax = plt.subplots(figsize=(20,3))\n",
    "df_listing['price_AUD'].plot(kind = 'box', vert = False)\n",
    "ax.set_title('Price in AUD range')\n",
    "plt.show()\n",
    "\n",
    "# identify the outliers with 1.5*IQR rules - price column:\n",
    "price_Q1 = df_listing['price_AUD'].quantile(0.25)\n",
    "price_Q3 = df_listing['price_AUD'].quantile(0.75)\n",
    "price_IQR = price_Q3 - price_Q1\n",
    "price_upper_bound = price_Q3 + 1.5*price_IQR\n",
    "price_lower_bound = price_Q1 - 1.5*price_IQR\n",
    "upper_num = len(df_listing[df_listing['price_AUD'] > price_upper_bound])\n",
    "\n",
    "print(f'The upper limit for price is {price_upper_bound}')\n",
    "print(f'The lower limit for price is {price_lower_bound}')\n",
    "print(f'There are {upper_num} rows have price higher than upper limit accounting for {round(upper_num*100/len(df_listing),2)}% of total')"
   ]
  },
  {
   "cell_type": "code",
   "execution_count": 52,
   "metadata": {},
   "outputs": [
    {
     "data": {
      "image/png": "[encoded data removed]",
      "text/plain": [
       "<Figure size 2000x300 with 1 Axes>"
      ]
     },
     "metadata": {},
     "output_type": "display_data"
    },
    {
     "name": "stdout",
     "output_type": "stream",
     "text": [
      "The upper limit for minimum nights is 12.0\n",
      "The lower limit for minimum nights is -4.0\n",
      "There are 2895 rows have number of minimum nights higher than upper limit accounting for 18.64% of total\n"
     ]
    }
   ],
   "source": [
    "# the box plot for minimum_nights columns \n",
    "fig, ax = plt.subplots(figsize = (20,3))\n",
    "df_listing['minimum_nights'].plot(kind = 'box', vert = False)\n",
    "ax.set_title('Minimum night range')\n",
    "plt.show()\n",
    "\n",
    "# calculate 1.5IQR range for outliers in minimum nights:\n",
    "minNights_Q1 = df_listing['minimum_nights'].quantile(0.25)\n",
    "minNights_Q3 = df_listing['minimum_nights'].quantile(0.75)\n",
    "minNights_IQR = minNights_Q3 - minNights_Q1\n",
    "minNights_upper_bound = minNights_Q3 + 1.5*minNights_IQR\n",
    "minNights_lower_bound = minNights_Q1 - 1.5*minNights_IQR\n",
    "minNights_upper = len(df_listing[df_listing['minimum_nights'] > minNights_upper_bound])\n",
    "\n",
    "print(f'The upper limit for minimum nights is {minNights_upper_bound}')\n",
    "print(f'The lower limit for minimum nights is {minNights_lower_bound}')\n",
    "print(f'There are {minNights_upper} rows have number of minimum nights higher than upper limit accounting for {round(minNights_upper*100/len(df_listing),2)}% of total')"
   ]
  },
  {
   "cell_type": "markdown",
   "metadata": {},
   "source": [
    "- There are about 8% of rows have outliers value in price, which is fair amount that will be dropped\n",
    "- However, considering the fact that about a fifth of data has the minimum nights over upper limit, it is quite a lot of data to get rid of.\n",
    "- Conidering the short term rental stay regulation in Sydney, the minimum night upper bound will be reset to 31 days"
   ]
  },
  {
   "cell_type": "code",
   "execution_count": 53,
   "metadata": {},
   "outputs": [],
   "source": [
    "# dropping rows with higher than upper limit for price and minimum nights:\n",
    "df_listing = df_listing.drop(df_listing[df_listing['price_AUD']> price_upper_bound].index, axis = 0)\n",
    "df_listing = df_listing.drop(df_listing[df_listing['minimum_nights']> 31].index, axis = 0)"
   ]
  },
  {
   "cell_type": "code",
   "execution_count": 54,
   "metadata": {},
   "outputs": [
    {
     "data": {
      "text/html": [
       "<div>\n",
       "<style scoped>\n",
       "    .dataframe tbody tr th:only-of-type {\n",
       "        vertical-align: middle;\n",
       "    }\n",
       "\n",
       "    .dataframe tbody tr th {\n",
       "        vertical-align: top;\n",
       "    }\n",
       "\n",
       "    .dataframe thead th {\n",
       "        text-align: right;\n",
       "    }\n",
       "</style>\n",
       "<table border=\"1\" class=\"dataframe\">\n",
       "  <thead>\n",
       "    <tr style=\"text-align: right;\">\n",
       "      <th></th>\n",
       "      <th>price_AUD</th>\n",
       "      <th>minimum_nights</th>\n",
       "    </tr>\n",
       "  </thead>\n",
       "  <tbody>\n",
       "    <tr>\n",
       "      <th>count</th>\n",
       "      <td>11340.000000</td>\n",
       "      <td>12054.000000</td>\n",
       "    </tr>\n",
       "    <tr>\n",
       "      <th>mean</th>\n",
       "      <td>225.952910</td>\n",
       "      <td>3.539074</td>\n",
       "    </tr>\n",
       "    <tr>\n",
       "      <th>std</th>\n",
       "      <td>124.824082</td>\n",
       "      <td>4.886916</td>\n",
       "    </tr>\n",
       "    <tr>\n",
       "      <th>min</th>\n",
       "      <td>16.000000</td>\n",
       "      <td>1.000000</td>\n",
       "    </tr>\n",
       "    <tr>\n",
       "      <th>25%</th>\n",
       "      <td>140.000000</td>\n",
       "      <td>1.000000</td>\n",
       "    </tr>\n",
       "    <tr>\n",
       "      <th>50%</th>\n",
       "      <td>197.000000</td>\n",
       "      <td>2.000000</td>\n",
       "    </tr>\n",
       "    <tr>\n",
       "      <th>75%</th>\n",
       "      <td>286.000000</td>\n",
       "      <td>3.000000</td>\n",
       "    </tr>\n",
       "    <tr>\n",
       "      <th>max</th>\n",
       "      <td>643.000000</td>\n",
       "      <td>30.000000</td>\n",
       "    </tr>\n",
       "  </tbody>\n",
       "</table>\n",
       "</div>"
      ],
      "text/plain": [
       "          price_AUD  minimum_nights\n",
       "count  11340.000000    12054.000000\n",
       "mean     225.952910        3.539074\n",
       "std      124.824082        4.886916\n",
       "min       16.000000        1.000000\n",
       "25%      140.000000        1.000000\n",
       "50%      197.000000        2.000000\n",
       "75%      286.000000        3.000000\n",
       "max      643.000000       30.000000"
      ]
     },
     "execution_count": 54,
     "metadata": {},
     "output_type": "execute_result"
    }
   ],
   "source": [
    "# recheck data after cleaning\n",
    "df_listing[['price_AUD','minimum_nights']].describe()"
   ]
  },
  {
   "cell_type": "code",
   "execution_count": 55,
   "metadata": {},
   "outputs": [
    {
     "data": {
      "text/plain": [
       "714"
      ]
     },
     "execution_count": 55,
     "metadata": {},
     "output_type": "execute_result"
    }
   ],
   "source": [
    "# recheck price range\n",
    "df_listing['price_AUD'].isna().sum()"
   ]
  },
  {
   "cell_type": "code",
   "execution_count": 56,
   "metadata": {},
   "outputs": [
    {
     "name": "stdout",
     "output_type": "stream",
     "text": [
      "There are 714 listings that does not price listed accounting for 5.92% of total\n"
     ]
    }
   ],
   "source": [
    "print(f'There are {df_listing['price_AUD'].isna().sum()} listings that does not price listed accounting for {round(df_listing['price_AUD'].isna().sum()*100/len(df_listing),2)}% of total')"
   ]
  },
  {
   "cell_type": "code",
   "execution_count": 57,
   "metadata": {},
   "outputs": [],
   "source": [
    "# drop null price row\n",
    "df_listing = df_listing.drop(df_listing[df_listing['price_AUD'].isna()].index, axis = 0)"
   ]
  },
  {
   "cell_type": "code",
   "execution_count": null,
   "metadata": {},
   "outputs": [],
   "source": [
    "# check listing data\n",
    "df_listing.info()"
   ]
  },
  {
   "cell_type": "markdown",
   "metadata": {},
   "source": [
    "#### Draft check data after cleaning"
   ]
  },
  {
   "cell_type": "markdown",
   "metadata": {},
   "source": [
    "The average booking rate of 50% (estimated by AirDNA) for Airbnb in Bangkok. Hence, there will couple of testing to see if the data after cleaning is fit enough for analysis"
   ]
  },
  {
   "cell_type": "code",
   "execution_count": 62,
   "metadata": {},
   "outputs": [],
   "source": [
    "# draft check the occupancy rate for listing over l12ms: Occupancy rate = (minimum_nights * number_of_review_l12ms)/ availability_365\n",
    "\n",
    "# first copied data\n",
    "df_copied = df_listing.copy()"
   ]
  },
  {
   "cell_type": "code",
   "execution_count": null,
   "metadata": {},
   "outputs": [],
   "source": [
    "df_copied.info()"
   ]
  },
  {
   "cell_type": "code",
   "execution_count": 64,
   "metadata": {},
   "outputs": [
    {
     "name": "stdout",
     "output_type": "stream",
     "text": [
      "On average, the number of night booked is 33.64832451499118 nights per listings in L12ms\n"
     ]
    }
   ],
   "source": [
    "# draft check number of nights booked. nights booked based on minimum and number of reviews\n",
    "nights_booked = df_copied['number_of_reviews_ltm']*df_copied['minimum_nights']\n",
    "print(f'On average, the number of night booked is {nights_booked.mean()} nights per listings in L12ms')"
   ]
  },
  {
   "cell_type": "markdown",
   "metadata": {},
   "source": [
    "The number seems to be quite small considering that the whole Airbnb just got under 30 days of booking all year round. Howerver, it is neccessary to take into account these factors:\n",
    "- availability of each listing is different, not all host lease their property for full year\n",
    "- the number of reviews is just a proxy to estimate for over the last 12 months as some guests may not leave their review, estimated there are about 70% guests leaving reviews"
   ]
  },
  {
   "cell_type": "code",
   "execution_count": 65,
   "metadata": {},
   "outputs": [
    {
     "data": {
      "text/plain": [
       "1774"
      ]
     },
     "execution_count": 65,
     "metadata": {},
     "output_type": "execute_result"
    }
   ],
   "source": [
    "len(df_copied[df_copied['number_of_reviews_ltm'] == 0])"
   ]
  },
  {
   "cell_type": "markdown",
   "metadata": {},
   "source": [
    "For the listing has 0 reviews but still has availability, the number of night books over the L12ms will be evaluated using the availability in 90 days taken into consideration of 4 groups of availability:\n",
    "- 0-90 days\n",
    "- 90-180 days\n",
    "- 180-270 days\n",
    "- 270-365 days"
   ]
  },
  {
   "cell_type": "code",
   "execution_count": 66,
   "metadata": {},
   "outputs": [],
   "source": [
    "# grouping availability\n",
    "df_copied['availability'] = np.where(df_copied['availability_365'] <= 90, 90, \n",
    "                                     np.where((df_copied['availability_365'] <= 180) & (df_copied['availability_365'] > 90), 180,\n",
    "                                              np.where((180 < df_copied['availability_365']) & (df_copied['availability_365']  <= 270 ),270, 365)))"
   ]
  },
  {
   "cell_type": "code",
   "execution_count": 67,
   "metadata": {},
   "outputs": [],
   "source": [
    "df_copied['booking'] = np.where(df_copied['availability'] == 90, (90-df_copied['availability_90']),\n",
    "                                np.where(df_copied['availability'] == 180, (90-df_copied['availability_90'])*2,\n",
    "                                         np.where(df_copied['availability'] == 270, (90-df_copied['availability_90'])*3,(90-df_copied['availability_90'])*4)))"
   ]
  },
  {
   "cell_type": "code",
   "execution_count": 68,
   "metadata": {},
   "outputs": [],
   "source": [
    "df_copied['stay'] = np.where(df_copied['minimum_nights'] <=3, 3, df_copied['minimum_nights'])"
   ]
  },
  {
   "cell_type": "code",
   "execution_count": 69,
   "metadata": {},
   "outputs": [],
   "source": [
    "df_copied['night_booked'] = np.where(df_copied['number_of_reviews_ltm']!= 0, (df_copied['number_of_reviews_ltm']/0.7) * df_copied['stay'],\n",
    "                                      np.where(df_copied['has_availability'] == True, df_copied['booking'], 0))"
   ]
  },
  {
   "cell_type": "code",
   "execution_count": 70,
   "metadata": {},
   "outputs": [
    {
     "data": {
      "text/plain": [
       "151"
      ]
     },
     "execution_count": 70,
     "metadata": {},
     "output_type": "execute_result"
    }
   ],
   "source": [
    "len(df_copied[(df_copied['night_booked'] == 0) & (df_copied['has_availability'] == True)])"
   ]
  },
  {
   "cell_type": "code",
   "execution_count": 71,
   "metadata": {},
   "outputs": [
    {
     "data": {
      "text/plain": [
       "78.06657848324515"
      ]
     },
     "execution_count": 71,
     "metadata": {},
     "output_type": "execute_result"
    }
   ],
   "source": [
    "df_copied['night_booked'].mean(skipna= True)"
   ]
  },
  {
   "cell_type": "code",
   "execution_count": 72,
   "metadata": {},
   "outputs": [],
   "source": [
    "df_copied['occupancy rate'] = df_copied['night_booked']/df_copied['availability']"
   ]
  },
  {
   "cell_type": "code",
   "execution_count": 73,
   "metadata": {},
   "outputs": [
    {
     "data": {
      "text/plain": [
       "93"
      ]
     },
     "execution_count": 73,
     "metadata": {},
     "output_type": "execute_result"
    }
   ],
   "source": [
    "# there may be some infinity value as some listing have 0 availability\n",
    "len(df_copied[df_copied['availability_365'] == 0])"
   ]
  },
  {
   "cell_type": "code",
   "execution_count": 74,
   "metadata": {},
   "outputs": [
    {
     "data": {
      "text/plain": [
       "'The occupancy rate is estimated around 49.30 %'"
      ]
     },
     "execution_count": 74,
     "metadata": {},
     "output_type": "execute_result"
    }
   ],
   "source": [
    "occ_rate = df_copied['occupancy rate'].replace(np.Inf, np.nan).mean(skipna=True)\n",
    "f'The occupancy rate is estimated around {occ_rate*100:.2f} %'"
   ]
  },
  {
   "cell_type": "markdown",
   "metadata": {},
   "source": [
    "Compare with data published on InsideAirbnb which state that the average booking is about 72 days per year. Our dataset resulted in ~70 days which is very close to the estimation."
   ]
  },
  {
   "cell_type": "code",
   "execution_count": 75,
   "metadata": {},
   "outputs": [
    {
     "name": "stdout",
     "output_type": "stream",
     "text": [
      "<class 'pandas.core.frame.DataFrame'>\n",
      "Index: 11340 entries, 1 to 15547\n",
      "Data columns (total 44 columns):\n",
      " #   Column                          Non-Null Count  Dtype         \n",
      "---  ------                          --------------  -----         \n",
      " 0   id                              11340 non-null  int64         \n",
      " 1   name                            11340 non-null  object        \n",
      " 2   host_id                         11340 non-null  int64         \n",
      " 3   host_name                       11340 non-null  object        \n",
      " 4   host_since                      11340 non-null  datetime64[ns]\n",
      " 5   host_is_superhost               11311 non-null  object        \n",
      " 6   host_listings_count             11340 non-null  int64         \n",
      " 7   host_has_profile_pic            11340 non-null  object        \n",
      " 8   host_identity_verified          11340 non-null  object        \n",
      " 9   neighbourhood_cleansed          11340 non-null  object        \n",
      " 10  latitude                        11340 non-null  float64       \n",
      " 11  longitude                       11340 non-null  float64       \n",
      " 12  property_type                   11340 non-null  object        \n",
      " 13  room_type                       11340 non-null  object        \n",
      " 14  accommodates                    11340 non-null  int64         \n",
      " 15  bathrooms                       11339 non-null  float64       \n",
      " 16  bedrooms                        11340 non-null  float64       \n",
      " 17  beds                            11326 non-null  float64       \n",
      " 18  amenities                       11340 non-null  object        \n",
      " 19  minimum_nights                  11340 non-null  int64         \n",
      " 20  maximum_nights                  11340 non-null  int64         \n",
      " 21  has_availability                11340 non-null  bool          \n",
      " 22  availability_30                 11340 non-null  int64         \n",
      " 23  availability_60                 11340 non-null  int64         \n",
      " 24  availability_90                 11340 non-null  int64         \n",
      " 25  availability_365                11340 non-null  int64         \n",
      " 26  number_of_reviews               11340 non-null  int64         \n",
      " 27  number_of_reviews_ltm           11340 non-null  int64         \n",
      " 28  number_of_reviews_l30d          11340 non-null  int64         \n",
      " 29  review_scores_rating            9920 non-null   float64       \n",
      " 30  review_scores_accuracy          9885 non-null   float64       \n",
      " 31  review_scores_cleanliness       9885 non-null   float64       \n",
      " 32  review_scores_checkin           9885 non-null   float64       \n",
      " 33  review_scores_communication     9885 non-null   float64       \n",
      " 34  review_scores_location          9885 non-null   float64       \n",
      " 35  review_scores_value             9884 non-null   float64       \n",
      " 36  license                         11290 non-null  object        \n",
      " 37  instant_bookable                11340 non-null  object        \n",
      " 38  calculated_host_listings_count  11340 non-null  int64         \n",
      " 39  reviews_per_month               9920 non-null   float64       \n",
      " 40  amenities_count                 11340 non-null  int64         \n",
      " 41  price_AUD                       11340 non-null  float64       \n",
      " 42  host_response_percent           10273 non-null  float64       \n",
      " 43  host_acceptance_percent         10661 non-null  float64       \n",
      "dtypes: bool(1), datetime64[ns](1), float64(16), int64(15), object(11)\n",
      "memory usage: 3.8+ MB\n"
     ]
    }
   ],
   "source": [
    "# recheck data \n",
    "df_listing.info()"
   ]
  },
  {
   "cell_type": "markdown",
   "metadata": {},
   "source": [
    "### Save clean file"
   ]
  },
  {
   "cell_type": "code",
   "execution_count": 59,
   "metadata": {},
   "outputs": [],
   "source": [
    "df_listing.to_parquet(r'C:\\Users\\tamla_f1yewqh\\OneDrive\\Desktop\\Python\\Projects\\Airbnb\\Sydney\\2024\\data cleaned\\listing_2024_clean.parquet')"
   ]
  },
  {
   "cell_type": "markdown",
   "metadata": {},
   "source": [
    "## Clean calendar and reviews data"
   ]
  },
  {
   "cell_type": "markdown",
   "metadata": {},
   "source": [
    "### Loading and checking format"
   ]
  },
  {
   "cell_type": "code",
   "execution_count": 203,
   "metadata": {},
   "outputs": [],
   "source": [
    "review = pd.read_parquet(r'C:\\Users\\tamla_f1yewqh\\OneDrive\\Desktop\\Python\\Projects\\Airbnb\\Sydney\\2024\\reviews_2024.parquet')"
   ]
  },
  {
   "cell_type": "code",
   "execution_count": 204,
   "metadata": {},
   "outputs": [],
   "source": [
    "calendar = pd.read_parquet(r'C:\\Users\\tamla_f1yewqh\\OneDrive\\Desktop\\Python\\Projects\\Airbnb\\Sydney\\2024\\calendar_2024.parquet')"
   ]
  },
  {
   "cell_type": "code",
   "execution_count": 176,
   "metadata": {},
   "outputs": [
    {
     "data": {
      "text/html": [
       "<div>\n",
       "<style scoped>\n",
       "    .dataframe tbody tr th:only-of-type {\n",
       "        vertical-align: middle;\n",
       "    }\n",
       "\n",
       "    .dataframe tbody tr th {\n",
       "        vertical-align: top;\n",
       "    }\n",
       "\n",
       "    .dataframe thead th {\n",
       "        text-align: right;\n",
       "    }\n",
       "</style>\n",
       "<table border=\"1\" class=\"dataframe\">\n",
       "  <thead>\n",
       "    <tr style=\"text-align: right;\">\n",
       "      <th></th>\n",
       "      <th>column0</th>\n",
       "      <th>listing_id</th>\n",
       "      <th>id</th>\n",
       "      <th>date</th>\n",
       "      <th>reviewer_id</th>\n",
       "      <th>reviewer_name</th>\n",
       "      <th>comments</th>\n",
       "    </tr>\n",
       "  </thead>\n",
       "  <tbody>\n",
       "    <tr>\n",
       "      <th>0</th>\n",
       "      <td>0</td>\n",
       "      <td>27934</td>\n",
       "      <td>1094339</td>\n",
       "      <td>2012-04-07</td>\n",
       "      <td>1368195</td>\n",
       "      <td>Michael</td>\n",
       "      <td>We stayed in the apartment for a week and we e...</td>\n",
       "    </tr>\n",
       "    <tr>\n",
       "      <th>1</th>\n",
       "      <td>1</td>\n",
       "      <td>27934</td>\n",
       "      <td>1241042</td>\n",
       "      <td>2012-05-07</td>\n",
       "      <td>2007324</td>\n",
       "      <td>Scott</td>\n",
       "      <td>My girlfriend and I recently stayed in Nuttee'...</td>\n",
       "    </tr>\n",
       "    <tr>\n",
       "      <th>2</th>\n",
       "      <td>2</td>\n",
       "      <td>27934</td>\n",
       "      <td>1523384</td>\n",
       "      <td>2012-06-20</td>\n",
       "      <td>2263352</td>\n",
       "      <td>Marc</td>\n",
       "      <td>I stayed for one month at the condo and was re...</td>\n",
       "    </tr>\n",
       "    <tr>\n",
       "      <th>3</th>\n",
       "      <td>3</td>\n",
       "      <td>27934</td>\n",
       "      <td>1655571</td>\n",
       "      <td>2012-07-08</td>\n",
       "      <td>558987</td>\n",
       "      <td>Leyla</td>\n",
       "      <td>Nuttee was a great host! I really enjoyed her ...</td>\n",
       "    </tr>\n",
       "    <tr>\n",
       "      <th>4</th>\n",
       "      <td>4</td>\n",
       "      <td>27934</td>\n",
       "      <td>1972192</td>\n",
       "      <td>2012-08-13</td>\n",
       "      <td>2359865</td>\n",
       "      <td>Rachel</td>\n",
       "      <td>Nuttee was an amazing host. She and her daught...</td>\n",
       "    </tr>\n",
       "  </tbody>\n",
       "</table>\n",
       "</div>"
      ],
      "text/plain": [
       "   column0  listing_id       id        date  reviewer_id reviewer_name  \\\n",
       "0        0       27934  1094339  2012-04-07      1368195       Michael   \n",
       "1        1       27934  1241042  2012-05-07      2007324         Scott   \n",
       "2        2       27934  1523384  2012-06-20      2263352          Marc   \n",
       "3        3       27934  1655571  2012-07-08       558987         Leyla   \n",
       "4        4       27934  1972192  2012-08-13      2359865        Rachel   \n",
       "\n",
       "                                            comments  \n",
       "0  We stayed in the apartment for a week and we e...  \n",
       "1  My girlfriend and I recently stayed in Nuttee'...  \n",
       "2  I stayed for one month at the condo and was re...  \n",
       "3  Nuttee was a great host! I really enjoyed her ...  \n",
       "4  Nuttee was an amazing host. She and her daught...  "
      ]
     },
     "execution_count": 176,
     "metadata": {},
     "output_type": "execute_result"
    }
   ],
   "source": [
    "review.head()"
   ]
  },
  {
   "cell_type": "code",
   "execution_count": 177,
   "metadata": {},
   "outputs": [
    {
     "name": "stdout",
     "output_type": "stream",
     "text": [
      "<class 'pandas.core.frame.DataFrame'>\n",
      "RangeIndex: 438958 entries, 0 to 438957\n",
      "Data columns (total 7 columns):\n",
      " #   Column         Non-Null Count   Dtype \n",
      "---  ------         --------------   ----- \n",
      " 0   column0        438958 non-null  int64 \n",
      " 1   listing_id     438958 non-null  int64 \n",
      " 2   id             438958 non-null  int64 \n",
      " 3   date           438958 non-null  object\n",
      " 4   reviewer_id    438958 non-null  int64 \n",
      " 5   reviewer_name  438953 non-null  object\n",
      " 6   comments       438901 non-null  object\n",
      "dtypes: int64(4), object(3)\n",
      "memory usage: 23.4+ MB\n"
     ]
    }
   ],
   "source": [
    "review.info()"
   ]
  },
  {
   "cell_type": "code",
   "execution_count": 178,
   "metadata": {},
   "outputs": [
    {
     "data": {
      "text/html": [
       "<div>\n",
       "<style scoped>\n",
       "    .dataframe tbody tr th:only-of-type {\n",
       "        vertical-align: middle;\n",
       "    }\n",
       "\n",
       "    .dataframe tbody tr th {\n",
       "        vertical-align: top;\n",
       "    }\n",
       "\n",
       "    .dataframe thead th {\n",
       "        text-align: right;\n",
       "    }\n",
       "</style>\n",
       "<table border=\"1\" class=\"dataframe\">\n",
       "  <thead>\n",
       "    <tr style=\"text-align: right;\">\n",
       "      <th></th>\n",
       "      <th>column0</th>\n",
       "      <th>listing_id</th>\n",
       "      <th>date</th>\n",
       "      <th>available</th>\n",
       "      <th>price</th>\n",
       "      <th>adjusted_price</th>\n",
       "      <th>minimum_nights</th>\n",
       "      <th>maximum_nights</th>\n",
       "    </tr>\n",
       "  </thead>\n",
       "  <tbody>\n",
       "    <tr>\n",
       "      <th>0</th>\n",
       "      <td>0</td>\n",
       "      <td>55681</td>\n",
       "      <td>2024-06-27</td>\n",
       "      <td>False</td>\n",
       "      <td>$1,105.00</td>\n",
       "      <td>None</td>\n",
       "      <td>2.0</td>\n",
       "      <td>365.0</td>\n",
       "    </tr>\n",
       "    <tr>\n",
       "      <th>1</th>\n",
       "      <td>1</td>\n",
       "      <td>55681</td>\n",
       "      <td>2024-06-28</td>\n",
       "      <td>False</td>\n",
       "      <td>$1,105.00</td>\n",
       "      <td>None</td>\n",
       "      <td>2.0</td>\n",
       "      <td>365.0</td>\n",
       "    </tr>\n",
       "    <tr>\n",
       "      <th>2</th>\n",
       "      <td>2</td>\n",
       "      <td>55681</td>\n",
       "      <td>2024-06-29</td>\n",
       "      <td>False</td>\n",
       "      <td>$1,105.00</td>\n",
       "      <td>None</td>\n",
       "      <td>2.0</td>\n",
       "      <td>365.0</td>\n",
       "    </tr>\n",
       "    <tr>\n",
       "      <th>3</th>\n",
       "      <td>3</td>\n",
       "      <td>55681</td>\n",
       "      <td>2024-06-30</td>\n",
       "      <td>False</td>\n",
       "      <td>$1,105.00</td>\n",
       "      <td>None</td>\n",
       "      <td>2.0</td>\n",
       "      <td>365.0</td>\n",
       "    </tr>\n",
       "    <tr>\n",
       "      <th>4</th>\n",
       "      <td>4</td>\n",
       "      <td>55681</td>\n",
       "      <td>2024-07-01</td>\n",
       "      <td>False</td>\n",
       "      <td>$1,105.00</td>\n",
       "      <td>None</td>\n",
       "      <td>2.0</td>\n",
       "      <td>365.0</td>\n",
       "    </tr>\n",
       "  </tbody>\n",
       "</table>\n",
       "</div>"
      ],
      "text/plain": [
       "   column0  listing_id        date  available      price adjusted_price  \\\n",
       "0        0       55681  2024-06-27      False  $1,105.00           None   \n",
       "1        1       55681  2024-06-28      False  $1,105.00           None   \n",
       "2        2       55681  2024-06-29      False  $1,105.00           None   \n",
       "3        3       55681  2024-06-30      False  $1,105.00           None   \n",
       "4        4       55681  2024-07-01      False  $1,105.00           None   \n",
       "\n",
       "   minimum_nights  maximum_nights  \n",
       "0             2.0           365.0  \n",
       "1             2.0           365.0  \n",
       "2             2.0           365.0  \n",
       "3             2.0           365.0  \n",
       "4             2.0           365.0  "
      ]
     },
     "execution_count": 178,
     "metadata": {},
     "output_type": "execute_result"
    }
   ],
   "source": [
    "calendar.head()"
   ]
  },
  {
   "cell_type": "code",
   "execution_count": 179,
   "metadata": {},
   "outputs": [
    {
     "name": "stdout",
     "output_type": "stream",
     "text": [
      "<class 'pandas.core.frame.DataFrame'>\n",
      "RangeIndex: 8632539 entries, 0 to 8632538\n",
      "Data columns (total 8 columns):\n",
      " #   Column          Dtype  \n",
      "---  ------          -----  \n",
      " 0   column0         int64  \n",
      " 1   listing_id      int64  \n",
      " 2   date            object \n",
      " 3   available       bool   \n",
      " 4   price           object \n",
      " 5   adjusted_price  object \n",
      " 6   minimum_nights  float64\n",
      " 7   maximum_nights  float64\n",
      "dtypes: bool(1), float64(2), int64(2), object(3)\n",
      "memory usage: 469.3+ MB\n"
     ]
    }
   ],
   "source": [
    "calendar.info()"
   ]
  },
  {
   "cell_type": "code",
   "execution_count": 205,
   "metadata": {},
   "outputs": [],
   "source": [
    "df_review = review.copy()"
   ]
  },
  {
   "cell_type": "code",
   "execution_count": 206,
   "metadata": {},
   "outputs": [],
   "source": [
    "df_calendar = calendar.copy()"
   ]
  },
  {
   "cell_type": "markdown",
   "metadata": {},
   "source": [
    "### Setting requirements"
   ]
  },
  {
   "cell_type": "markdown",
   "metadata": {},
   "source": [
    "A - For review table:\n",
    "- [x] drop column0\n",
    "- [x] convert date into datetime format\n",
    "\n",
    "B - For calendar table:\n",
    "- [x] drop column0\n",
    "- [x] convert price into price_baht\n",
    "- [x] convert date into datetime format\n",
    "- [x] clean adjusted-price\n",
    "\n",
    "C - Other:\n",
    "- [ ] Remove those lines that the listings id are not in listings table (as some listing has been removed at the last step of cleaning listings)"
   ]
  },
  {
   "cell_type": "markdown",
   "metadata": {},
   "source": [
    "### Cleaning process"
   ]
  },
  {
   "cell_type": "code",
   "execution_count": 207,
   "metadata": {},
   "outputs": [],
   "source": [
    "# drop column0 in both table\n",
    "# remove reviewer names and comments column on review\n",
    "df_review = df_review.drop(columns=['reviewer_name','comments'])"
   ]
  },
  {
   "cell_type": "code",
   "execution_count": 208,
   "metadata": {},
   "outputs": [],
   "source": [
    "# convert datetime format in both table\n",
    "df_calendar['date'] = pd.to_datetime(df_calendar['date'])\n",
    "df_review['date'] = pd.to_datetime(df_review['date'])"
   ]
  },
  {
   "cell_type": "code",
   "execution_count": 209,
   "metadata": {},
   "outputs": [],
   "source": [
    "# conver the price in calendar to local currency\n",
    "df_calendar['price_AUD'] = df_calendar['price'].apply(lambda x: x.replace('$','').replace(',','').replace('.00',''))"
   ]
  },
  {
   "cell_type": "code",
   "execution_count": 210,
   "metadata": {},
   "outputs": [],
   "source": [
    "df_calendar['price_AUD'] = pd.to_numeric(df_calendar['price_AUD'])"
   ]
  },
  {
   "cell_type": "code",
   "execution_count": 211,
   "metadata": {},
   "outputs": [],
   "source": [
    "df_calendar = df_calendar.drop('price',axis = 1)"
   ]
  },
  {
   "cell_type": "code",
   "execution_count": 212,
   "metadata": {},
   "outputs": [
    {
     "name": "stdout",
     "output_type": "stream",
     "text": [
      "<class 'pandas.core.frame.DataFrame'>\n",
      "RangeIndex: 5675024 entries, 0 to 5675023\n",
      "Data columns (total 7 columns):\n",
      " #   Column          Dtype         \n",
      "---  ------          -----         \n",
      " 0   listing_id      int64         \n",
      " 1   date            datetime64[ns]\n",
      " 2   available       object        \n",
      " 3   adjusted_price  object        \n",
      " 4   minimum_nights  float64       \n",
      " 5   maximum_nights  float64       \n",
      " 6   price_AUD       float64       \n",
      "dtypes: datetime64[ns](1), float64(3), int64(1), object(2)\n",
      "memory usage: 303.1+ MB\n"
     ]
    }
   ],
   "source": [
    "df_calendar.info()"
   ]
  },
  {
   "cell_type": "code",
   "execution_count": 213,
   "metadata": {},
   "outputs": [
    {
     "data": {
      "text/plain": [
       "5668454"
      ]
     },
     "execution_count": 213,
     "metadata": {},
     "output_type": "execute_result"
    }
   ],
   "source": [
    "# check adjusted price in calendar. The adjusted price has mostly null value which is not quite useful, hence it will be droped\n",
    "df_calendar['adjusted_price'].isna().sum()"
   ]
  },
  {
   "cell_type": "code",
   "execution_count": 214,
   "metadata": {},
   "outputs": [],
   "source": [
    "df_calendar = df_calendar.drop('adjusted_price', axis= 1)"
   ]
  },
  {
   "cell_type": "code",
   "execution_count": 215,
   "metadata": {},
   "outputs": [],
   "source": [
    "# clean out listing id that has been removed in listing data by created a column to check whether the listing exits and delete the False value later on\n",
    "df_calendar['listing_to_remove'] = df_calendar['listing_id'].isin(df_listing['id'])"
   ]
  },
  {
   "cell_type": "code",
   "execution_count": 216,
   "metadata": {},
   "outputs": [],
   "source": [
    "# clean out listing id that has been removed in listing data by created a column to check whether the listing exits and delete the False value later on\n",
    "\n",
    "df_review['listing_to_remove'] = df_review['listing_id'].isin(df_listing['id'])"
   ]
  },
  {
   "cell_type": "code",
   "execution_count": 217,
   "metadata": {},
   "outputs": [],
   "source": [
    "# delete false value\n",
    "df_review = df_review[df_review['listing_to_remove']]"
   ]
  },
  {
   "cell_type": "code",
   "execution_count": 218,
   "metadata": {},
   "outputs": [],
   "source": [
    "# delete false value\n",
    "df_calendar = df_calendar[df_calendar['listing_to_remove']]"
   ]
  },
  {
   "cell_type": "code",
   "execution_count": 219,
   "metadata": {},
   "outputs": [],
   "source": [
    "# drop the listing_to_remove in both table\n",
    "df_calendar = df_calendar.drop(columns=['listing_to_remove'])\n",
    "df_review = df_review.drop(columns=['listing_to_remove'])"
   ]
  },
  {
   "cell_type": "code",
   "execution_count": 220,
   "metadata": {},
   "outputs": [
    {
     "data": {
      "text/plain": [
       "9920"
      ]
     },
     "execution_count": 220,
     "metadata": {},
     "output_type": "execute_result"
    }
   ],
   "source": [
    "# check unique value of listing in both table\n",
    "len(df_review['listing_id'].unique())"
   ]
  },
  {
   "cell_type": "code",
   "execution_count": 221,
   "metadata": {},
   "outputs": [
    {
     "data": {
      "text/plain": [
       "11340"
      ]
     },
     "execution_count": 221,
     "metadata": {},
     "output_type": "execute_result"
    }
   ],
   "source": [
    "# the number of listings on calendar now match the number of listings on listing table\n",
    "len(df_calendar['listing_id'].unique())"
   ]
  },
  {
   "cell_type": "markdown",
   "metadata": {},
   "source": [
    "### Save clean files"
   ]
  },
  {
   "cell_type": "code",
   "execution_count": 223,
   "metadata": {},
   "outputs": [],
   "source": [
    "df_review.to_parquet(r'C:\\Users\\tamla_f1yewqh\\OneDrive\\Desktop\\Python\\Projects\\Airbnb\\Sydney\\2024\\reviews_2024_cleaned.parquet', index = False)"
   ]
  },
  {
   "cell_type": "code",
   "execution_count": 224,
   "metadata": {},
   "outputs": [],
   "source": [
    "df_calendar.to_parquet(r'C:\\Users\\tamla_f1yewqh\\OneDrive\\Desktop\\Python\\Projects\\Airbnb\\Sydney\\2024\\calendar_2024_cleaned.parquet', index = False)"
   ]
  }
 ],
 "metadata": {
  "kernelspec": {
   "display_name": "airbnb",
   "language": "python",
   "name": "python3"
  },
  "language_info": {
   "codemirror_mode": {
    "name": "ipython",
    "version": 3
   },
   "file_extension": ".py",
   "mimetype": "text/x-python",
   "name": "python",
   "nbconvert_exporter": "python",
   "pygments_lexer": "ipython3",
   "version": "3.12.4"
  }
 },
 "nbformat": 4,
 "nbformat_minor": 2
}
